{
 "cells": [
  {
   "cell_type": "code",
   "execution_count": 5,
   "metadata": {},
   "outputs": [],
   "source": [
    "import pandas as pd \n",
    "import numpy as np \n",
    "import tensorflow as tf\n",
    "from tensorflow.keras import layers, models\n",
    "import numpy as np\n",
    "import tensorflow as tf\n",
    "from torch import nn, optim\n",
    "from sklearn.model_selection import train_test_split\n",
    "import torch\n",
    "import torch.nn.functional as F\n",
    "from torch_geometric.nn import GCNConv\n",
    "\n"
   ]
  },
  {
   "cell_type": "code",
   "execution_count": 6,
   "metadata": {},
   "outputs": [],
   "source": [
    "# Read in connectomes\n",
    "test_connectome = pd.read_csv('TEST_FUNCTIONAL_CONNECTOME_MATRICES.csv')\n",
    "train_connectome = pd.read_csv('TRAIN_FUNCTIONAL_CONNECTOME_MATRICES.csv')"
   ]
  },
  {
   "cell_type": "code",
   "execution_count": 7,
   "metadata": {},
   "outputs": [],
   "source": [
    "# Read in solutions "
   ]
  },
  {
   "cell_type": "markdown",
   "metadata": {},
   "source": [
    "# Denoising Autoencoder DAE"
   ]
  },
  {
   "cell_type": "code",
   "execution_count": 8,
   "metadata": {},
   "outputs": [],
   "source": [
    "# Merge Connectome\n",
    "merged_connectome = pd.concat([train_connectome, test_connectome], ignore_index=True)"
   ]
  },
  {
   "cell_type": "markdown",
   "metadata": {},
   "source": [
    "Hypertuning parameters to consider\n",
    "- Latent dimension \n",
    "- Learning rate\n",
    "- Beta coefficient\n",
    "- Network architecture\n",
    "- Attention mechanism \n",
    "- "
   ]
  },
  {
   "cell_type": "code",
   "execution_count": 9,
   "metadata": {},
   "outputs": [
    {
     "data": {
      "text/plain": [
       "(1517, 19901)"
      ]
     },
     "execution_count": 9,
     "metadata": {},
     "output_type": "execute_result"
    }
   ],
   "source": [
    "merged_connectome.shape"
   ]
  },
  {
   "cell_type": "markdown",
   "metadata": {},
   "source": [
    "# Check GPU "
   ]
  },
  {
   "cell_type": "code",
   "execution_count": 10,
   "metadata": {},
   "outputs": [
    {
     "name": "stdout",
     "output_type": "stream",
     "text": [
      "[PhysicalDevice(name='/physical_device:GPU:0', device_type='GPU')]\n"
     ]
    }
   ],
   "source": [
    "print(tf.config.list_physical_devices('GPU'))\n",
    "\n",
    "device = 'mps' if torch.backends.mps.is_available() else 'cpu'\n"
   ]
  },
  {
   "cell_type": "markdown",
   "metadata": {},
   "source": [
    "# Denoising Autoencoder\n",
    "\n",
    "Training the DAE using the training data only\n",
    "\n",
    "Construct a graph for each patient\n",
    "\n",
    "Layer options\n",
    "\n",
    "- Graph convolution network GCN layers\n",
    "\n",
    "- Graph attention network\n",
    "\n",
    "- GraphSAGE"
   ]
  },
  {
   "cell_type": "code",
   "execution_count": 11,
   "metadata": {},
   "outputs": [],
   "source": [
    "# Split\n",
    "train, test = train_test_split(train_connectome, test_size=0.2, random_state=123)"
   ]
  },
  {
   "cell_type": "code",
   "execution_count": 12,
   "metadata": {},
   "outputs": [
    {
     "data": {
      "text/html": [
       "<div>\n",
       "<style scoped>\n",
       "    .dataframe tbody tr th:only-of-type {\n",
       "        vertical-align: middle;\n",
       "    }\n",
       "\n",
       "    .dataframe tbody tr th {\n",
       "        vertical-align: top;\n",
       "    }\n",
       "\n",
       "    .dataframe thead th {\n",
       "        text-align: right;\n",
       "    }\n",
       "</style>\n",
       "<table border=\"1\" class=\"dataframe\">\n",
       "  <thead>\n",
       "    <tr style=\"text-align: right;\">\n",
       "      <th></th>\n",
       "      <th>participant_id</th>\n",
       "      <th>0throw_1thcolumn</th>\n",
       "      <th>0throw_2thcolumn</th>\n",
       "      <th>0throw_3thcolumn</th>\n",
       "      <th>0throw_4thcolumn</th>\n",
       "      <th>0throw_5thcolumn</th>\n",
       "      <th>0throw_6thcolumn</th>\n",
       "      <th>0throw_7thcolumn</th>\n",
       "      <th>0throw_8thcolumn</th>\n",
       "      <th>0throw_9thcolumn</th>\n",
       "      <th>...</th>\n",
       "      <th>195throw_196thcolumn</th>\n",
       "      <th>195throw_197thcolumn</th>\n",
       "      <th>195throw_198thcolumn</th>\n",
       "      <th>195throw_199thcolumn</th>\n",
       "      <th>196throw_197thcolumn</th>\n",
       "      <th>196throw_198thcolumn</th>\n",
       "      <th>196throw_199thcolumn</th>\n",
       "      <th>197throw_198thcolumn</th>\n",
       "      <th>197throw_199thcolumn</th>\n",
       "      <th>198throw_199thcolumn</th>\n",
       "    </tr>\n",
       "  </thead>\n",
       "  <tbody>\n",
       "    <tr>\n",
       "      <th>245</th>\n",
       "      <td>SQm76fJSbnOJ</td>\n",
       "      <td>0.013950</td>\n",
       "      <td>0.127501</td>\n",
       "      <td>0.082060</td>\n",
       "      <td>0.018698</td>\n",
       "      <td>0.140320</td>\n",
       "      <td>0.110693</td>\n",
       "      <td>0.144033</td>\n",
       "      <td>-0.001539</td>\n",
       "      <td>-0.005555</td>\n",
       "      <td>...</td>\n",
       "      <td>-0.128461</td>\n",
       "      <td>0.026121</td>\n",
       "      <td>-0.000221</td>\n",
       "      <td>-0.014034</td>\n",
       "      <td>0.160262</td>\n",
       "      <td>0.098936</td>\n",
       "      <td>0.089991</td>\n",
       "      <td>0.106315</td>\n",
       "      <td>0.161235</td>\n",
       "      <td>0.214552</td>\n",
       "    </tr>\n",
       "    <tr>\n",
       "      <th>754</th>\n",
       "      <td>dkdzVYGa3Iu8</td>\n",
       "      <td>0.022553</td>\n",
       "      <td>0.140073</td>\n",
       "      <td>0.097226</td>\n",
       "      <td>0.012527</td>\n",
       "      <td>0.088804</td>\n",
       "      <td>0.045076</td>\n",
       "      <td>0.083054</td>\n",
       "      <td>-0.011288</td>\n",
       "      <td>0.062306</td>\n",
       "      <td>...</td>\n",
       "      <td>-0.021645</td>\n",
       "      <td>0.040021</td>\n",
       "      <td>-0.043451</td>\n",
       "      <td>-0.022091</td>\n",
       "      <td>0.165821</td>\n",
       "      <td>-0.047099</td>\n",
       "      <td>-0.030019</td>\n",
       "      <td>0.099582</td>\n",
       "      <td>0.005600</td>\n",
       "      <td>0.136694</td>\n",
       "    </tr>\n",
       "    <tr>\n",
       "      <th>1081</th>\n",
       "      <td>thOEqb7itFN4</td>\n",
       "      <td>0.033729</td>\n",
       "      <td>0.075476</td>\n",
       "      <td>0.012562</td>\n",
       "      <td>0.075011</td>\n",
       "      <td>0.027859</td>\n",
       "      <td>0.046206</td>\n",
       "      <td>0.089602</td>\n",
       "      <td>-0.070930</td>\n",
       "      <td>0.045197</td>\n",
       "      <td>...</td>\n",
       "      <td>0.063328</td>\n",
       "      <td>-0.025791</td>\n",
       "      <td>-0.067837</td>\n",
       "      <td>0.065316</td>\n",
       "      <td>0.107439</td>\n",
       "      <td>0.047191</td>\n",
       "      <td>0.063457</td>\n",
       "      <td>0.025493</td>\n",
       "      <td>0.050150</td>\n",
       "      <td>0.161528</td>\n",
       "    </tr>\n",
       "    <tr>\n",
       "      <th>1046</th>\n",
       "      <td>UpjY3jG5wzaa</td>\n",
       "      <td>-0.003199</td>\n",
       "      <td>0.052066</td>\n",
       "      <td>-0.097500</td>\n",
       "      <td>0.122587</td>\n",
       "      <td>0.084372</td>\n",
       "      <td>0.073175</td>\n",
       "      <td>-0.023639</td>\n",
       "      <td>0.025104</td>\n",
       "      <td>0.028917</td>\n",
       "      <td>...</td>\n",
       "      <td>-0.043452</td>\n",
       "      <td>0.030182</td>\n",
       "      <td>-0.043548</td>\n",
       "      <td>0.029743</td>\n",
       "      <td>0.093195</td>\n",
       "      <td>0.036329</td>\n",
       "      <td>0.144975</td>\n",
       "      <td>0.133233</td>\n",
       "      <td>0.049647</td>\n",
       "      <td>0.119555</td>\n",
       "    </tr>\n",
       "    <tr>\n",
       "      <th>198</th>\n",
       "      <td>XTvG5IE4GGZl</td>\n",
       "      <td>0.195590</td>\n",
       "      <td>0.055915</td>\n",
       "      <td>0.047765</td>\n",
       "      <td>0.125630</td>\n",
       "      <td>0.045009</td>\n",
       "      <td>0.106749</td>\n",
       "      <td>0.019818</td>\n",
       "      <td>0.077723</td>\n",
       "      <td>0.021662</td>\n",
       "      <td>...</td>\n",
       "      <td>-0.001410</td>\n",
       "      <td>0.008980</td>\n",
       "      <td>0.052267</td>\n",
       "      <td>-0.025989</td>\n",
       "      <td>0.109747</td>\n",
       "      <td>-0.022835</td>\n",
       "      <td>0.110594</td>\n",
       "      <td>0.018462</td>\n",
       "      <td>0.119918</td>\n",
       "      <td>0.105973</td>\n",
       "    </tr>\n",
       "  </tbody>\n",
       "</table>\n",
       "<p>5 rows × 19901 columns</p>\n",
       "</div>"
      ],
      "text/plain": [
       "     participant_id  0throw_1thcolumn  0throw_2thcolumn  0throw_3thcolumn  \\\n",
       "245    SQm76fJSbnOJ          0.013950          0.127501          0.082060   \n",
       "754    dkdzVYGa3Iu8          0.022553          0.140073          0.097226   \n",
       "1081   thOEqb7itFN4          0.033729          0.075476          0.012562   \n",
       "1046   UpjY3jG5wzaa         -0.003199          0.052066         -0.097500   \n",
       "198    XTvG5IE4GGZl          0.195590          0.055915          0.047765   \n",
       "\n",
       "      0throw_4thcolumn  0throw_5thcolumn  0throw_6thcolumn  0throw_7thcolumn  \\\n",
       "245           0.018698          0.140320          0.110693          0.144033   \n",
       "754           0.012527          0.088804          0.045076          0.083054   \n",
       "1081          0.075011          0.027859          0.046206          0.089602   \n",
       "1046          0.122587          0.084372          0.073175         -0.023639   \n",
       "198           0.125630          0.045009          0.106749          0.019818   \n",
       "\n",
       "      0throw_8thcolumn  0throw_9thcolumn  ...  195throw_196thcolumn  \\\n",
       "245          -0.001539         -0.005555  ...             -0.128461   \n",
       "754          -0.011288          0.062306  ...             -0.021645   \n",
       "1081         -0.070930          0.045197  ...              0.063328   \n",
       "1046          0.025104          0.028917  ...             -0.043452   \n",
       "198           0.077723          0.021662  ...             -0.001410   \n",
       "\n",
       "      195throw_197thcolumn  195throw_198thcolumn  195throw_199thcolumn  \\\n",
       "245               0.026121             -0.000221             -0.014034   \n",
       "754               0.040021             -0.043451             -0.022091   \n",
       "1081             -0.025791             -0.067837              0.065316   \n",
       "1046              0.030182             -0.043548              0.029743   \n",
       "198               0.008980              0.052267             -0.025989   \n",
       "\n",
       "      196throw_197thcolumn  196throw_198thcolumn  196throw_199thcolumn  \\\n",
       "245               0.160262              0.098936              0.089991   \n",
       "754               0.165821             -0.047099             -0.030019   \n",
       "1081              0.107439              0.047191              0.063457   \n",
       "1046              0.093195              0.036329              0.144975   \n",
       "198               0.109747             -0.022835              0.110594   \n",
       "\n",
       "      197throw_198thcolumn  197throw_199thcolumn  198throw_199thcolumn  \n",
       "245               0.106315              0.161235              0.214552  \n",
       "754               0.099582              0.005600              0.136694  \n",
       "1081              0.025493              0.050150              0.161528  \n",
       "1046              0.133233              0.049647              0.119555  \n",
       "198               0.018462              0.119918              0.105973  \n",
       "\n",
       "[5 rows x 19901 columns]"
      ]
     },
     "execution_count": 12,
     "metadata": {},
     "output_type": "execute_result"
    }
   ],
   "source": [
    "train.head()"
   ]
  },
  {
   "cell_type": "code",
   "execution_count": null,
   "metadata": {},
   "outputs": [],
   "source": [
    "# Graph Construction\n",
    "\n"
   ]
  },
  {
   "cell_type": "code",
   "execution_count": null,
   "metadata": {},
   "outputs": [],
   "source": [
    "# Implement\n",
    "\n",
    "class GNNEncoder(torch.nn.Module):\n",
    "    def __init__(self, in_channels, hidden_dim, out_dim):\n",
    "        super().__init__(GNNEncoder, self).__init__()\n",
    "        self.conv1 = GCNConv(in_channels, hidden_dim)\n",
    "        self.conv2 = GCNConv(hidden_dim, out_dim)\n",
    "    \n",
    "    def forward(self, x, edge_index):\n",
    "        x = F.relu(self.conv1(x, edge_index))\n",
    "        x = self.conv2(x, edge_index)\n",
    "        return = x\n",
    "\n",
    "class GNNDecoder(torch.nn.Module):\n",
    "    def __init__(self, out_dim, hidden_dim, in_channels):\n",
    "        super(GNNDecoder, self).__init__()\n",
    "        self.conv1 = GCNConv(out_dim, hidden_dim)\n",
    "        self.conv2 = GCNConv(hidden_dim, in_channels)\n",
    "\n",
    "    def forward(self, x, edge_index):\n",
    "        x = F.relu(self.conv1(x, edge_index))\n",
    "        x = self.conv2(x, edge_index)\n",
    "        return x \n",
    "    \n",
    "class DenoisingGNN(torch.nn.Module):\n",
    "    def __init__(self, in_channels, hidden_dim, out_dim):\n",
    "        super(DenoisingGNN, self).__init__()\n",
    "        self.encoder = GNNEncoder(in_channels, hidden_dim, out_dim)\n",
    "        self.decoder = GNNDecoder(out_dim, hidden_dim, in_channels)\n",
    "\n",
    "    def forward(self, x, edge_index):\n",
    "        z = self.encoder(x, edge_index)\n",
    "        x_reconstructed = self.decoder(z, edge_index)\n",
    "        return x_reconstructed\n",
    "\n"
   ]
  },
  {
   "cell_type": "code",
   "execution_count": null,
   "metadata": {},
   "outputs": [
    {
     "ename": "NameError",
     "evalue": "name 'num_nodes' is not defined",
     "output_type": "error",
     "traceback": [
      "\u001b[0;31m---------------------------------------------------------------------------\u001b[0m",
      "\u001b[0;31mNameError\u001b[0m                                 Traceback (most recent call last)",
      "Cell \u001b[0;32mIn[3], line 1\u001b[0m\n\u001b[0;32m----> 1\u001b[0m adj_matrix \u001b[38;5;241m=\u001b[39m np\u001b[38;5;241m.\u001b[39mzeros((num_nodes, num_nodes))\n",
      "\u001b[0;31mNameError\u001b[0m: name 'num_nodes' is not defined"
     ]
    }
   ],
   "source": [
    "adj_matrix = np.zeros((num_nodes, num_nodes))"
   ]
  }
 ],
 "metadata": {
  "kernelspec": {
   "display_name": "base",
   "language": "python",
   "name": "python3"
  },
  "language_info": {
   "codemirror_mode": {
    "name": "ipython",
    "version": 3
   },
   "file_extension": ".py",
   "mimetype": "text/x-python",
   "name": "python",
   "nbconvert_exporter": "python",
   "pygments_lexer": "ipython3",
   "version": "3.12.7"
  }
 },
 "nbformat": 4,
 "nbformat_minor": 2
}
