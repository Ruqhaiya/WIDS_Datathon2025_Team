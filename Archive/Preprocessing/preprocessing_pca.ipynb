{
 "cells": [
  {
   "cell_type": "markdown",
   "metadata": {},
   "source": [
    "## (ignore) doing two versions of dataset. Still in progress "
   ]
  },
  {
   "cell_type": "code",
   "execution_count": 13,
   "metadata": {},
   "outputs": [
    {
     "data": {
      "text/plain": [
       "((1213, 101), (304, 101))"
      ]
     },
     "execution_count": 13,
     "metadata": {},
     "output_type": "execute_result"
    }
   ],
   "source": [
    "import pandas as pd\n",
    "\n",
    "train_merged_path = r\"../Preprocessed_Data/train_merged.csv\"\n",
    "test_merged_path = r\"../Preprocessed_Data/test_merged.csv\"\n",
    "\n",
    "train_merged = pd.read_csv(train_merged_path)\n",
    "test_merged = pd.read_csv(test_merged_path)\n",
    "train_merged.shape, test_merged.shape"
   ]
  },
  {
   "cell_type": "markdown",
   "metadata": {},
   "source": [
    "# Missing values (confirming)"
   ]
  },
  {
   "cell_type": "code",
   "execution_count": 14,
   "metadata": {},
   "outputs": [
    {
     "name": "stdout",
     "output_type": "stream",
     "text": [
      "Columns with missing values in TRAIN:\n",
      "MRI_Track_Age_at_Scan    360\n",
      "dtype: int64\n"
     ]
    }
   ],
   "source": [
    "train_null_counts = train_merged.isnull().sum()\n",
    "train_missing_cols = train_null_counts[train_null_counts > 0]\n",
    "print(\"Columns with missing values in TRAIN:\")\n",
    "print(train_missing_cols)"
   ]
  },
  {
   "cell_type": "code",
   "execution_count": 15,
   "metadata": {},
   "outputs": [
    {
     "name": "stdout",
     "output_type": "stream",
     "text": [
      "\n",
      "Columns with missing values in TEST:\n",
      "EHQ_EHQ_Total                  1\n",
      "ColorVision_CV_Score           9\n",
      "APQ_P_APQ_P_CP                15\n",
      "APQ_P_APQ_P_ID                15\n",
      "APQ_P_APQ_P_INV               15\n",
      "APQ_P_APQ_P_OPD               15\n",
      "APQ_P_APQ_P_PM                15\n",
      "APQ_P_APQ_P_PP                15\n",
      "SDQ_SDQ_Conduct_Problems      30\n",
      "SDQ_SDQ_Difficulties_Total    30\n",
      "SDQ_SDQ_Emotional_Problems    30\n",
      "SDQ_SDQ_Externalizing         30\n",
      "SDQ_SDQ_Generating_Impact     30\n",
      "SDQ_SDQ_Hyperactivity         30\n",
      "SDQ_SDQ_Internalizing         30\n",
      "SDQ_SDQ_Peer_Problems         30\n",
      "SDQ_SDQ_Prosocial             30\n",
      "dtype: int64\n"
     ]
    }
   ],
   "source": [
    "test_null_counts = test_merged.isnull().sum()\n",
    "test_missing_cols = test_null_counts[test_null_counts > 0]\n",
    "print(\"\\nColumns with missing values in TEST:\")\n",
    "print(test_missing_cols)"
   ]
  },
  {
   "cell_type": "code",
   "execution_count": 16,
   "metadata": {},
   "outputs": [],
   "source": [
    "train_v1 = train_merged.copy()\n",
    "test_v1  = test_merged.copy()"
   ]
  },
  {
   "cell_type": "markdown",
   "metadata": {},
   "source": [
    "# Dropping age column\n"
   ]
  },
  {
   "cell_type": "code",
   "execution_count": 17,
   "metadata": {},
   "outputs": [],
   "source": [
    "cols_to_drop = [\"MRI_Track_Age_at_Scan\"]\n",
    "\n",
    "for col in cols_to_drop:\n",
    "    train_v1.drop(columns=col, inplace=True)\n",
    "    test_v1.drop(columns=col, inplace=True)\n"
   ]
  },
  {
   "cell_type": "markdown",
   "metadata": {},
   "source": [
    "## Dropping Rows with Missing Values in Test V1"
   ]
  },
  {
   "cell_type": "code",
   "execution_count": 18,
   "metadata": {},
   "outputs": [
    {
     "data": {
      "text/plain": [
       "(259, 100)"
      ]
     },
     "execution_count": 18,
     "metadata": {},
     "output_type": "execute_result"
    }
   ],
   "source": [
    "test_v1.dropna(inplace=True)\n",
    "test_v1.shape"
   ]
  },
  {
   "cell_type": "code",
   "execution_count": 19,
   "metadata": {},
   "outputs": [
    {
     "name": "stdout",
     "output_type": "stream",
     "text": [
      "Train V1 columns: ['Barratt_Barratt_P1_Edu_college_edu', 'Barratt_Barratt_P1_Edu_graduate_edu', 'Barratt_Barratt_P1_Edu_high_school_grad', 'Barratt_Barratt_P1_Edu_junior_middle_school', 'Barratt_Barratt_P1_Edu_less_than_7th', 'Barratt_Barratt_P1_Edu_partial_college', 'Barratt_Barratt_P1_Edu_partial_high_school', 'Barratt_Barratt_P1_Edu_unknown', 'Barratt_Barratt_P1_Occ_0', 'Barratt_Barratt_P1_Occ_0.0', 'Barratt_Barratt_P1_Occ_1.0', 'Barratt_Barratt_P1_Occ_10', 'Barratt_Barratt_P1_Occ_15', 'Barratt_Barratt_P1_Occ_15.0', 'Barratt_Barratt_P1_Occ_20', 'Barratt_Barratt_P1_Occ_20.0', 'Barratt_Barratt_P1_Occ_25', 'Barratt_Barratt_P1_Occ_25.0', 'Barratt_Barratt_P1_Occ_30', 'Barratt_Barratt_P1_Occ_30.0', 'Barratt_Barratt_P1_Occ_35', 'Barratt_Barratt_P1_Occ_35.0', 'Barratt_Barratt_P1_Occ_40', 'Barratt_Barratt_P1_Occ_40.0', 'Barratt_Barratt_P1_Occ_45', 'Barratt_Barratt_P1_Occ_45.0', 'Barratt_Barratt_P1_Occ_5', 'Barratt_Barratt_P1_Occ_5.0', 'Barratt_Barratt_P2_Edu_college_edu', 'Barratt_Barratt_P2_Edu_graduate_edu', 'Barratt_Barratt_P2_Edu_high_school_grad', 'Barratt_Barratt_P2_Edu_junior_middle_school', 'Barratt_Barratt_P2_Edu_less_than_7th', 'Barratt_Barratt_P2_Edu_partial_college', 'Barratt_Barratt_P2_Edu_partial_high_school', 'Barratt_Barratt_P2_Edu_unknown', 'Barratt_Barratt_P2_Occ_0', 'Barratt_Barratt_P2_Occ_0.0', 'Barratt_Barratt_P2_Occ_1.0', 'Barratt_Barratt_P2_Occ_10', 'Barratt_Barratt_P2_Occ_10.0', 'Barratt_Barratt_P2_Occ_15', 'Barratt_Barratt_P2_Occ_15.0', 'Barratt_Barratt_P2_Occ_20', 'Barratt_Barratt_P2_Occ_20.0', 'Barratt_Barratt_P2_Occ_25', 'Barratt_Barratt_P2_Occ_25.0', 'Barratt_Barratt_P2_Occ_30', 'Barratt_Barratt_P2_Occ_30.0', 'Barratt_Barratt_P2_Occ_35', 'Barratt_Barratt_P2_Occ_35.0', 'Barratt_Barratt_P2_Occ_40', 'Barratt_Barratt_P2_Occ_40.0', 'Barratt_Barratt_P2_Occ_45', 'Barratt_Barratt_P2_Occ_45.0', 'Barratt_Barratt_P2_Occ_5', 'Barratt_Barratt_P2_Occ_5.0', 'Basic_Demos_Enroll_Year', 'Basic_Demos_Study_Site_1', 'Basic_Demos_Study_Site_2', 'Basic_Demos_Study_Site_3', 'Basic_Demos_Study_Site_4', 'Basic_Demos_Study_Site_5', 'MRI_Track_Scan_Location_0', 'MRI_Track_Scan_Location_1', 'MRI_Track_Scan_Location_2', 'MRI_Track_Scan_Location_3', 'MRI_Track_Scan_Location_4', 'PreInt_Demos_Fam_Child_Ethnicity_decline_to_say', 'PreInt_Demos_Fam_Child_Ethnicity_hispanic_or_latino', 'PreInt_Demos_Fam_Child_Ethnicity_not_hispanic_or_latino', 'PreInt_Demos_Fam_Child_Ethnicity_unknown', 'PreInt_Demos_Fam_Child_Race_asian', 'PreInt_Demos_Fam_Child_Race_black_african_american', 'PreInt_Demos_Fam_Child_Race_choose_not_to_specify', 'PreInt_Demos_Fam_Child_Race_hispanic', 'PreInt_Demos_Fam_Child_Race_indian', 'PreInt_Demos_Fam_Child_Race_native_hawaiian_pacific_islander', 'PreInt_Demos_Fam_Child_Race_other_race', 'PreInt_Demos_Fam_Child_Race_two_or_more_races', 'PreInt_Demos_Fam_Child_Race_unknown', 'PreInt_Demos_Fam_Child_Race_white_caucasian', 'participant_id', 'EHQ_EHQ_Total', 'ColorVision_CV_Score', 'APQ_P_APQ_P_CP', 'APQ_P_APQ_P_ID', 'APQ_P_APQ_P_INV', 'APQ_P_APQ_P_OPD', 'APQ_P_APQ_P_PM', 'APQ_P_APQ_P_PP', 'SDQ_SDQ_Conduct_Problems', 'SDQ_SDQ_Difficulties_Total', 'SDQ_SDQ_Emotional_Problems', 'SDQ_SDQ_Externalizing', 'SDQ_SDQ_Generating_Impact', 'SDQ_SDQ_Hyperactivity', 'SDQ_SDQ_Internalizing', 'SDQ_SDQ_Peer_Problems', 'SDQ_SDQ_Prosocial']\n",
      "Test V1 columns: ['Barratt_Barratt_P1_Edu_college_edu', 'Barratt_Barratt_P1_Edu_graduate_edu', 'Barratt_Barratt_P1_Edu_high_school_grad', 'Barratt_Barratt_P1_Edu_junior_middle_school', 'Barratt_Barratt_P1_Edu_less_than_7th', 'Barratt_Barratt_P1_Edu_partial_college', 'Barratt_Barratt_P1_Edu_partial_high_school', 'Barratt_Barratt_P1_Edu_unknown', 'Barratt_Barratt_P1_Occ_0', 'Barratt_Barratt_P1_Occ_0.0', 'Barratt_Barratt_P1_Occ_1.0', 'Barratt_Barratt_P1_Occ_10', 'Barratt_Barratt_P1_Occ_15', 'Barratt_Barratt_P1_Occ_15.0', 'Barratt_Barratt_P1_Occ_20', 'Barratt_Barratt_P1_Occ_20.0', 'Barratt_Barratt_P1_Occ_25', 'Barratt_Barratt_P1_Occ_25.0', 'Barratt_Barratt_P1_Occ_30', 'Barratt_Barratt_P1_Occ_30.0', 'Barratt_Barratt_P1_Occ_35', 'Barratt_Barratt_P1_Occ_35.0', 'Barratt_Barratt_P1_Occ_40', 'Barratt_Barratt_P1_Occ_40.0', 'Barratt_Barratt_P1_Occ_45', 'Barratt_Barratt_P1_Occ_45.0', 'Barratt_Barratt_P1_Occ_5', 'Barratt_Barratt_P1_Occ_5.0', 'Barratt_Barratt_P2_Edu_college_edu', 'Barratt_Barratt_P2_Edu_graduate_edu', 'Barratt_Barratt_P2_Edu_high_school_grad', 'Barratt_Barratt_P2_Edu_junior_middle_school', 'Barratt_Barratt_P2_Edu_less_than_7th', 'Barratt_Barratt_P2_Edu_partial_college', 'Barratt_Barratt_P2_Edu_partial_high_school', 'Barratt_Barratt_P2_Edu_unknown', 'Barratt_Barratt_P2_Occ_0', 'Barratt_Barratt_P2_Occ_0.0', 'Barratt_Barratt_P2_Occ_1.0', 'Barratt_Barratt_P2_Occ_10', 'Barratt_Barratt_P2_Occ_10.0', 'Barratt_Barratt_P2_Occ_15', 'Barratt_Barratt_P2_Occ_15.0', 'Barratt_Barratt_P2_Occ_20', 'Barratt_Barratt_P2_Occ_20.0', 'Barratt_Barratt_P2_Occ_25', 'Barratt_Barratt_P2_Occ_25.0', 'Barratt_Barratt_P2_Occ_30', 'Barratt_Barratt_P2_Occ_30.0', 'Barratt_Barratt_P2_Occ_35', 'Barratt_Barratt_P2_Occ_35.0', 'Barratt_Barratt_P2_Occ_40', 'Barratt_Barratt_P2_Occ_40.0', 'Barratt_Barratt_P2_Occ_45', 'Barratt_Barratt_P2_Occ_45.0', 'Barratt_Barratt_P2_Occ_5', 'Barratt_Barratt_P2_Occ_5.0', 'Basic_Demos_Enroll_Year', 'Basic_Demos_Study_Site_1', 'Basic_Demos_Study_Site_2', 'Basic_Demos_Study_Site_3', 'Basic_Demos_Study_Site_4', 'Basic_Demos_Study_Site_5', 'MRI_Track_Scan_Location_0', 'MRI_Track_Scan_Location_1', 'MRI_Track_Scan_Location_2', 'MRI_Track_Scan_Location_3', 'MRI_Track_Scan_Location_4', 'PreInt_Demos_Fam_Child_Ethnicity_decline_to_say', 'PreInt_Demos_Fam_Child_Ethnicity_hispanic_or_latino', 'PreInt_Demos_Fam_Child_Ethnicity_not_hispanic_or_latino', 'PreInt_Demos_Fam_Child_Ethnicity_unknown', 'PreInt_Demos_Fam_Child_Race_asian', 'PreInt_Demos_Fam_Child_Race_black_african_american', 'PreInt_Demos_Fam_Child_Race_choose_not_to_specify', 'PreInt_Demos_Fam_Child_Race_hispanic', 'PreInt_Demos_Fam_Child_Race_indian', 'PreInt_Demos_Fam_Child_Race_native_hawaiian_pacific_islander', 'PreInt_Demos_Fam_Child_Race_other_race', 'PreInt_Demos_Fam_Child_Race_two_or_more_races', 'PreInt_Demos_Fam_Child_Race_unknown', 'PreInt_Demos_Fam_Child_Race_white_caucasian', 'participant_id', 'EHQ_EHQ_Total', 'ColorVision_CV_Score', 'APQ_P_APQ_P_CP', 'APQ_P_APQ_P_ID', 'APQ_P_APQ_P_INV', 'APQ_P_APQ_P_OPD', 'APQ_P_APQ_P_PM', 'APQ_P_APQ_P_PP', 'SDQ_SDQ_Conduct_Problems', 'SDQ_SDQ_Difficulties_Total', 'SDQ_SDQ_Emotional_Problems', 'SDQ_SDQ_Externalizing', 'SDQ_SDQ_Generating_Impact', 'SDQ_SDQ_Hyperactivity', 'SDQ_SDQ_Internalizing', 'SDQ_SDQ_Peer_Problems', 'SDQ_SDQ_Prosocial']\n",
      "Train V1 shape: (1213, 100)\n",
      "Test V1 shape: (259, 100)\n"
     ]
    }
   ],
   "source": [
    "print(\"Train V1 columns:\", train_v1.columns.tolist())\n",
    "print(\"Test V1 columns:\", test_v1.columns.tolist())\n",
    "\n",
    "print(\"Train V1 shape:\", train_v1.shape)\n",
    "print(\"Test V1 shape:\", test_v1.shape)"
   ]
  },
  {
   "cell_type": "markdown",
   "metadata": {},
   "source": [
    "#   Version 1"
   ]
  },
  {
   "cell_type": "code",
   "execution_count": 20,
   "metadata": {},
   "outputs": [],
   "source": [
    "train_v1.to_csv(\"../Preprocessed_Data/train_v1.csv\", index=False)\n",
    "test_v1.to_csv(\"../Preprocessed_Data/test_v1.csv\", index=False)"
   ]
  },
  {
   "cell_type": "code",
   "execution_count": 21,
   "metadata": {},
   "outputs": [],
   "source": [
    "train_v2 = train_merged.copy()\n",
    "test_v2  = test_merged.copy()"
   ]
  },
  {
   "cell_type": "code",
   "execution_count": 22,
   "metadata": {},
   "outputs": [],
   "source": [
    "# imputing Age\n",
    "age_mean = train_v2['MRI_Track_Age_at_Scan'].mean()\n",
    "train_v2.loc[:, 'MRI_Track_Age_at_Scan'] = train_v2['MRI_Track_Age_at_Scan'].fillna(age_mean)"
   ]
  },
  {
   "cell_type": "code",
   "execution_count": 23,
   "metadata": {},
   "outputs": [],
   "source": [
    "# imputing columns with missing values in test set (APQ SDQ)\n",
    "missing_cols = test_v2.columns[test_v2.isnull().sum() > 0]  \n",
    "survey_cols = [col for col in missing_cols if \"SDQ\" in col or \"APQ\" in col]\n",
    "\n",
    "# using median as data is kinda skewed\n",
    "for col in survey_cols:\n",
    "    test_v2.loc[:, col] = test_v2[col].fillna(test_v2[col].median())"
   ]
  },
  {
   "cell_type": "code",
   "execution_count": 24,
   "metadata": {},
   "outputs": [
    {
     "name": "stdout",
     "output_type": "stream",
     "text": [
      "0 missing values in train_v2\n",
      "10 missing values in test_v2\n"
     ]
    }
   ],
   "source": [
    "print(train_v2.isnull().sum().sum(), \"missing values in train_v2\")\n",
    "print(test_v2.isnull().sum().sum(), \"missing values in test_v2\")"
   ]
  },
  {
   "cell_type": "markdown",
   "metadata": {},
   "source": [
    "## those values are EHQ and CV test"
   ]
  },
  {
   "cell_type": "code",
   "execution_count": 25,
   "metadata": {},
   "outputs": [],
   "source": [
    "# imputing with median, since it is skewed\n",
    "ehq_mdn = test_v2['EHQ_EHQ_Total'].median()\n",
    "test_v2.loc[:, 'EHQ_EHQ_Total'] = test_v2['EHQ_EHQ_Total'].fillna(ehq_mdn)"
   ]
  },
  {
   "cell_type": "code",
   "execution_count": 26,
   "metadata": {},
   "outputs": [],
   "source": [
    "# mode as it has discrete values mostly\n",
    "cv_mode = test_v2['ColorVision_CV_Score'].mode()[0]\n",
    "test_v2.loc[:, 'ColorVision_CV_Score'] = test_v2['ColorVision_CV_Score'].fillna(cv_mode)"
   ]
  },
  {
   "cell_type": "code",
   "execution_count": 27,
   "metadata": {},
   "outputs": [],
   "source": [
    "train_v2.to_csv(\"../Preprocessed_Data/train_v2.csv\", index=False)\n",
    "test_v2.to_csv(\"../Preprocessed_Data/test_v2.csv\", index=False)"
   ]
  },
  {
   "cell_type": "code",
   "execution_count": 28,
   "metadata": {},
   "outputs": [
    {
     "name": "stdout",
     "output_type": "stream",
     "text": [
      "0 missing values in train_v2\n",
      "0 missing values in test_v2\n"
     ]
    }
   ],
   "source": [
    "print(train_v2.isnull().sum().sum(), \"missing values in train_v2\")\n",
    "print(test_v2.isnull().sum().sum(), \"missing values in test_v2\")"
   ]
  },
  {
   "cell_type": "code",
   "execution_count": null,
   "metadata": {},
   "outputs": [],
   "source": []
  }
 ],
 "metadata": {
  "kernelspec": {
   "display_name": "base",
   "language": "python",
   "name": "python3"
  },
  "language_info": {
   "codemirror_mode": {
    "name": "ipython",
    "version": 3
   },
   "file_extension": ".py",
   "mimetype": "text/x-python",
   "name": "python",
   "nbconvert_exporter": "python",
   "pygments_lexer": "ipython3",
   "version": "3.11.4"
  }
 },
 "nbformat": 4,
 "nbformat_minor": 2
}
