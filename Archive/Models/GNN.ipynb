{
 "cells": [
  {
   "cell_type": "code",
   "execution_count": null,
   "metadata": {},
   "outputs": [],
   "source": [
    "import pandas as pd\n",
    "import numpy as np\n",
    "import torch\n",
    "import torch.nn as nn"
   ]
  },
  {
   "cell_type": "code",
   "execution_count": 2,
   "metadata": {},
   "outputs": [],
   "source": [
    "\n",
    "# Read in connectomes\n",
    "test_connectome = pd.read_csv('/Users/rubyc/Desktop/Datathon/WIDS_Datathon2025_Team/Archive/widsdatathon2025/TEST/TEST_FUNCTIONAL_CONNECTOME_MATRICES.csv')\n",
    "train_connectome = pd.read_csv('/Users/rubyc/Desktop/Datathon/WIDS_Datathon2025_Team/Archive/widsdatathon2025/TRAIN_NEW/TRAIN_FUNCTIONAL_CONNECTOME_MATRICES_new_36P_Pearson.csv')\n",
    "\n",
    "# Read in solutions \n",
    "solutions = pd.read_excel('/Users/rubyc/Desktop/Datathon/WIDS_Datathon2025_Team/Archive/widsdatathon2025/TRAIN_NEW/TRAINING_SOLUTIONS.xlsx')\n",
    "\n"
   ]
  },
  {
   "cell_type": "code",
   "execution_count": 3,
   "metadata": {},
   "outputs": [],
   "source": [
    "# Read in survey data\n",
    "train_cat_quant = pd.read_csv('/Users/rubyc/Desktop/Datathon/WIDS_Datathon2025_Team/Archive/Preprocessing/train_cat_quant_imputed.csv')\n",
    "test_cat_quant = pd.read_csv('/Users/rubyc/Desktop/Datathon/WIDS_Datathon2025_Team/Archive/Preprocessing/test_cat_quant_imputed.csv')"
   ]
  },
  {
   "cell_type": "code",
   "execution_count": 4,
   "metadata": {},
   "outputs": [
    {
     "data": {
      "text/html": [
       "<div>\n",
       "<style scoped>\n",
       "    .dataframe tbody tr th:only-of-type {\n",
       "        vertical-align: middle;\n",
       "    }\n",
       "\n",
       "    .dataframe tbody tr th {\n",
       "        vertical-align: top;\n",
       "    }\n",
       "\n",
       "    .dataframe thead th {\n",
       "        text-align: right;\n",
       "    }\n",
       "</style>\n",
       "<table border=\"1\" class=\"dataframe\">\n",
       "  <thead>\n",
       "    <tr style=\"text-align: right;\">\n",
       "      <th></th>\n",
       "      <th>participant_id</th>\n",
       "      <th>0throw_1thcolumn</th>\n",
       "      <th>0throw_2thcolumn</th>\n",
       "      <th>0throw_3thcolumn</th>\n",
       "      <th>0throw_4thcolumn</th>\n",
       "      <th>0throw_5thcolumn</th>\n",
       "      <th>0throw_6thcolumn</th>\n",
       "      <th>0throw_7thcolumn</th>\n",
       "      <th>0throw_8thcolumn</th>\n",
       "      <th>0throw_9thcolumn</th>\n",
       "      <th>...</th>\n",
       "      <th>195throw_196thcolumn</th>\n",
       "      <th>195throw_197thcolumn</th>\n",
       "      <th>195throw_198thcolumn</th>\n",
       "      <th>195throw_199thcolumn</th>\n",
       "      <th>196throw_197thcolumn</th>\n",
       "      <th>196throw_198thcolumn</th>\n",
       "      <th>196throw_199thcolumn</th>\n",
       "      <th>197throw_198thcolumn</th>\n",
       "      <th>197throw_199thcolumn</th>\n",
       "      <th>198throw_199thcolumn</th>\n",
       "    </tr>\n",
       "  </thead>\n",
       "  <tbody>\n",
       "    <tr>\n",
       "      <th>0</th>\n",
       "      <td>70z8Q2xdTXM3</td>\n",
       "      <td>0.22293</td>\n",
       "      <td>0.527903</td>\n",
       "      <td>0.429966</td>\n",
       "      <td>0.060457</td>\n",
       "      <td>0.566489</td>\n",
       "      <td>0.315342</td>\n",
       "      <td>0.508408</td>\n",
       "      <td>-0.07829</td>\n",
       "      <td>0.525692</td>\n",
       "      <td>...</td>\n",
       "      <td>0.224985</td>\n",
       "      <td>0.397448</td>\n",
       "      <td>0.422966</td>\n",
       "      <td>0.184642</td>\n",
       "      <td>0.305549</td>\n",
       "      <td>0.420349</td>\n",
       "      <td>0.016328</td>\n",
       "      <td>0.561864</td>\n",
       "      <td>0.47117</td>\n",
       "      <td>0.365221</td>\n",
       "    </tr>\n",
       "  </tbody>\n",
       "</table>\n",
       "<p>1 rows × 19901 columns</p>\n",
       "</div>"
      ],
      "text/plain": [
       "  participant_id  0throw_1thcolumn  0throw_2thcolumn  0throw_3thcolumn  \\\n",
       "0   70z8Q2xdTXM3           0.22293          0.527903          0.429966   \n",
       "\n",
       "   0throw_4thcolumn  0throw_5thcolumn  0throw_6thcolumn  0throw_7thcolumn  \\\n",
       "0          0.060457          0.566489          0.315342          0.508408   \n",
       "\n",
       "   0throw_8thcolumn  0throw_9thcolumn  ...  195throw_196thcolumn  \\\n",
       "0          -0.07829          0.525692  ...              0.224985   \n",
       "\n",
       "   195throw_197thcolumn  195throw_198thcolumn  195throw_199thcolumn  \\\n",
       "0              0.397448              0.422966              0.184642   \n",
       "\n",
       "   196throw_197thcolumn  196throw_198thcolumn  196throw_199thcolumn  \\\n",
       "0              0.305549              0.420349              0.016328   \n",
       "\n",
       "   197throw_198thcolumn  197throw_199thcolumn  198throw_199thcolumn  \n",
       "0              0.561864               0.47117              0.365221  \n",
       "\n",
       "[1 rows x 19901 columns]"
      ]
     },
     "execution_count": 4,
     "metadata": {},
     "output_type": "execute_result"
    }
   ],
   "source": [
    "train_connectome.head(1)"
   ]
  },
  {
   "cell_type": "code",
   "execution_count": null,
   "metadata": {},
   "outputs": [],
   "source": [
    "# Need to define the NonGraphDAE again to load trained model \n",
    "\n",
    "# Define NonGraphDAE class\n",
    "class NonGraphDAE(nn.Module):\n",
    "    def __init__(self, input_dim=19900, hidden_dim=512, latent_dim=128, dropout=0.2):\n",
    "        super(NonGraphDAE, self).__init__()\n",
    "        self.dropout = dropout\n",
    "\n",
    "        # Encoder layers\n",
    "        self.enc1 = nn.Linear(input_dim, hidden_dim)\n",
    "        self.enc2 = nn.Linear(hidden_dim, latent_dim)\n",
    "        \n",
    "        # Decoder layers\n",
    "        self.dec1 = nn.Linear(latent_dim, hidden_dim) \n",
    "        self.dec2 = nn.Linear(hidden_dim, input_dim)\n",
    "\n",
    "        # Activation functions\n",
    "        self.relu = nn.ReLU()\n",
    "    \n",
    "    def encode(self, x):\n",
    "        x = self.relu(self.enc1(x))\n",
    "        x = self.enc2(x)\n",
    "        return x\n",
    "    \n",
    "    def decode(self, z):\n",
    "        x = self.relu(self.dec1(z))\n",
    "        x = self.dec2(x)\n",
    "        return x\n",
    "    \n",
    "    def forward(self, x):\n",
    "        z = self.encode(x)\n",
    "        recon_x = self.decode(z)\n",
    "        return recon_x, z"
   ]
  },
  {
   "cell_type": "code",
   "execution_count": 14,
   "metadata": {},
   "outputs": [],
   "source": [
    "# Connectome data \n",
    "ids = train_connectome['participant_id']\n",
    "connectome_features = train_connectome.iloc[:, 1:].values\n",
    "\n",
    "# Convert to tensor\n",
    "X = torch.tensor(connectome_features, dtype=torch.float32)\n",
    "\n",
    "# Load autoencoder\n",
    "autoencoder = torch.load('/Users/rubyc/Desktop/Datathon/WIDS_Datathon2025_Team/Archive/Models/nongraph_autoencoder.pth', weights_only=False)\n",
    "\n",
    "# Set to evaluation mode\n",
    "autoencoder.eval()\n",
    "\n",
    "# Get latent reps\n",
    "with torch.no_grad():\n",
    "    _, z = autoencoder(X)  # z is the latent embeddings\n",
    "    encoded_features = z.numpy()\n",
    "\n",
    "# Save encoded features with IDs\n",
    "encoded_df = pd.DataFrame(encoded_features, columns=[f\"latent_{i}\" for i in range(encoded_features.shape[1])])\n",
    "encoded_df[\"participant_id\"] = ids"
   ]
  },
  {
   "cell_type": "code",
   "execution_count": null,
   "metadata": {},
   "outputs": [],
   "source": [
    "merged_encoded_df = encoded_df.merge(train_cat_quant, on='participant_id', how='left')\n",
    "\n",
    "# merged_encoded_df.to_csv('merged_encoded_data.csv')"
   ]
  },
  {
   "cell_type": "code",
   "execution_count": null,
   "metadata": {},
   "outputs": [],
   "source": []
  }
 ],
 "metadata": {
  "kernelspec": {
   "display_name": "base",
   "language": "python",
   "name": "python3"
  },
  "language_info": {
   "codemirror_mode": {
    "name": "ipython",
    "version": 3
   },
   "file_extension": ".py",
   "mimetype": "text/x-python",
   "name": "python",
   "nbconvert_exporter": "python",
   "pygments_lexer": "ipython3",
   "version": "3.12.7"
  }
 },
 "nbformat": 4,
 "nbformat_minor": 2
}
